{
  "cells": [
    {
      "cell_type": "code",
      "execution_count": 50,
      "metadata": {
        "id": "e0ark8SXuFPw"
      },
      "outputs": [],
      "source": [
        "import pandas as pd\n",
        "import numpy as np\n",
        "from sklearn.model_selection import train_test_split\n",
        "from sklearn.pipeline import Pipeline\n",
        "from sklearn.impute import SimpleImputer\n",
        "from sklearn.preprocessing import StandardScaler\n",
        "from sklearn.linear_model import LinearRegression\n",
        "from sklearn.metrics import mean_squared_error\n",
        "\n",
        "weather = pd.read_csv('data/weather.csv')\n",
        "pallet_history = pd.read_csv('data/Pallet_history_Gold_Spike.csv')\n",
        "inbound = pd.read_csv('data/inbound_loads.csv')\n",
        "outbound = pd.read_csv('data/outbound_laods.csv')\n",
        "demand = pd.read_csv('data/demand_kWtrain_val.csv')"
      ]
    },
    {
      "cell_type": "code",
      "execution_count": 67,
      "metadata": {
        "id": "G8wQBLpyu9Zw"
      },
      "outputs": [
        {
          "name": "stdout",
          "output_type": "stream",
          "text": [
            "   Unnamed: 0_x datetime_local  demand_kW  Unnamed: 0_y  \\\n",
            "0           NaN            NaN        NaN           NaN   \n",
            "1           NaN            NaN        NaN           NaN   \n",
            "2           NaN            NaN        NaN           NaN   \n",
            "3           NaN            NaN        NaN           NaN   \n",
            "4           NaN            NaN        NaN           NaN   \n",
            "\n",
            "   warehouse_order_number_x  customer_code_x load_reference_number_x  \\\n",
            "0                       NaN              NaN                     NaN   \n",
            "1                       NaN              NaN                     NaN   \n",
            "2                       NaN              NaN                     NaN   \n",
            "3                       NaN              NaN                     NaN   \n",
            "4                       NaN              NaN                     NaN   \n",
            "\n",
            "  carrier_code_x  front_temperature  middle_temperature  ...  \\\n",
            "0            NaN                NaN                 NaN  ...   \n",
            "1            NaN                NaN                 NaN  ...   \n",
            "2            NaN                NaN                 NaN  ...   \n",
            "3            NaN                NaN                 NaN  ...   \n",
            "4            NaN                NaN                 NaN  ...   \n",
            "\n",
            "   load_finish_datetime_y  signout_datetime_y dock_door_number_y  \\\n",
            "0                     NaN                 NaN                NaN   \n",
            "1                     NaN                 NaN                NaN   \n",
            "2                     NaN                 NaN                NaN   \n",
            "3                     NaN                 NaN                NaN   \n",
            "4                     NaN                 NaN                NaN   \n",
            "\n",
            "   trailer_number_y  truck_signin_datetime Relative Humidity Temperature  \\\n",
            "0               NaN                    NaN             50.37        53.6   \n",
            "1               NaN                    NaN             50.37        53.6   \n",
            "2               NaN                    NaN             50.37        53.6   \n",
            "3               NaN                    NaN             50.37        53.6   \n",
            "4               NaN                    NaN             50.37        53.6   \n",
            "\n",
            "                    datetime         datetime_UTC hour  \n",
            "0  2018-12-31 18:00:00-06:00  2019-01-01 00:00:00   18  \n",
            "1  2018-12-31 18:05:00-06:00  2019-01-01 00:05:00   18  \n",
            "2  2018-12-31 18:10:00-06:00  2019-01-01 00:10:00   18  \n",
            "3  2018-12-31 18:15:00-06:00  2019-01-01 00:15:00   18  \n",
            "4  2018-12-31 18:20:00-06:00  2019-01-01 00:20:00   18  \n",
            "\n",
            "[5 rows x 54 columns]\n"
          ]
        },
        {
          "ename": "AttributeError",
          "evalue": "'str' object has no attribute 'value'",
          "output_type": "error",
          "traceback": [
            "\u001b[1;31m---------------------------------------------------------------------------\u001b[0m",
            "\u001b[1;31mAttributeError\u001b[0m                            Traceback (most recent call last)",
            "\u001b[1;32mc:\\Users\\freek\\OneDrive\\Documenten\\.Universiteit\\M1\\S2\\AML\\energy-demand-prediction\\analysis.ipynb Cell 2\u001b[0m in \u001b[0;36m1\n\u001b[0;32m     <a href='vscode-notebook-cell:/c%3A/Users/freek/OneDrive/Documenten/.Universiteit/M1/S2/AML/energy-demand-prediction/analysis.ipynb#W2sZmlsZQ%3D%3D?line=11'>12</a>\u001b[0m merged_data \u001b[39m=\u001b[39m pd\u001b[39m.\u001b[39mmerge(merged_data, weather[cols_to_use], left_index\u001b[39m=\u001b[39m\u001b[39mTrue\u001b[39;00m, right_index\u001b[39m=\u001b[39m\u001b[39mTrue\u001b[39;00m, how\u001b[39m=\u001b[39m\u001b[39m'\u001b[39m\u001b[39mouter\u001b[39m\u001b[39m'\u001b[39m)\n\u001b[0;32m     <a href='vscode-notebook-cell:/c%3A/Users/freek/OneDrive/Documenten/.Universiteit/M1/S2/AML/energy-demand-prediction/analysis.ipynb#W2sZmlsZQ%3D%3D?line=13'>14</a>\u001b[0m \u001b[39mprint\u001b[39m(merged_data\u001b[39m.\u001b[39mhead())\n\u001b[1;32m---> <a href='vscode-notebook-cell:/c%3A/Users/freek/OneDrive/Documenten/.Universiteit/M1/S2/AML/energy-demand-prediction/analysis.ipynb#W2sZmlsZQ%3D%3D?line=14'>15</a>\u001b[0m merged_data[\u001b[39m'\u001b[39m\u001b[39mdatetime\u001b[39m\u001b[39m'\u001b[39m] \u001b[39m=\u001b[39m merged_data[\u001b[39m'\u001b[39;49m\u001b[39mdatetime\u001b[39;49m\u001b[39m'\u001b[39;49m]\u001b[39m.\u001b[39;49mapply(\u001b[39mlambda\u001b[39;49;00m x: x\u001b[39m.\u001b[39;49mvalue)\n\u001b[0;32m     <a href='vscode-notebook-cell:/c%3A/Users/freek/OneDrive/Documenten/.Universiteit/M1/S2/AML/energy-demand-prediction/analysis.ipynb#W2sZmlsZQ%3D%3D?line=17'>18</a>\u001b[0m \u001b[39m# Split the data into training and test sets\u001b[39;00m\n\u001b[0;32m     <a href='vscode-notebook-cell:/c%3A/Users/freek/OneDrive/Documenten/.Universiteit/M1/S2/AML/energy-demand-prediction/analysis.ipynb#W2sZmlsZQ%3D%3D?line=18'>19</a>\u001b[0m X \u001b[39m=\u001b[39m merged_data\u001b[39m.\u001b[39mdrop(\u001b[39m'\u001b[39m\u001b[39mdemand_kW\u001b[39m\u001b[39m'\u001b[39m, axis\u001b[39m=\u001b[39m\u001b[39m1\u001b[39m)\n",
            "File \u001b[1;32mc:\\Users\\freek\\AppData\\Local\\Programs\\Python\\Python310\\lib\\site-packages\\pandas\\core\\series.py:4433\u001b[0m, in \u001b[0;36mSeries.apply\u001b[1;34m(self, func, convert_dtype, args, **kwargs)\u001b[0m\n\u001b[0;32m   4323\u001b[0m \u001b[39mdef\u001b[39;00m \u001b[39mapply\u001b[39m(\n\u001b[0;32m   4324\u001b[0m     \u001b[39mself\u001b[39m,\n\u001b[0;32m   4325\u001b[0m     func: AggFuncType,\n\u001b[1;32m   (...)\u001b[0m\n\u001b[0;32m   4328\u001b[0m     \u001b[39m*\u001b[39m\u001b[39m*\u001b[39mkwargs,\n\u001b[0;32m   4329\u001b[0m ) \u001b[39m-\u001b[39m\u001b[39m>\u001b[39m DataFrame \u001b[39m|\u001b[39m Series:\n\u001b[0;32m   4330\u001b[0m     \u001b[39m\"\"\"\u001b[39;00m\n\u001b[0;32m   4331\u001b[0m \u001b[39m    Invoke function on values of Series.\u001b[39;00m\n\u001b[0;32m   4332\u001b[0m \n\u001b[1;32m   (...)\u001b[0m\n\u001b[0;32m   4431\u001b[0m \u001b[39m    dtype: float64\u001b[39;00m\n\u001b[0;32m   4432\u001b[0m \u001b[39m    \"\"\"\u001b[39;00m\n\u001b[1;32m-> 4433\u001b[0m     \u001b[39mreturn\u001b[39;00m SeriesApply(\u001b[39mself\u001b[39;49m, func, convert_dtype, args, kwargs)\u001b[39m.\u001b[39;49mapply()\n",
            "File \u001b[1;32mc:\\Users\\freek\\AppData\\Local\\Programs\\Python\\Python310\\lib\\site-packages\\pandas\\core\\apply.py:1082\u001b[0m, in \u001b[0;36mSeriesApply.apply\u001b[1;34m(self)\u001b[0m\n\u001b[0;32m   1078\u001b[0m \u001b[39mif\u001b[39;00m \u001b[39misinstance\u001b[39m(\u001b[39mself\u001b[39m\u001b[39m.\u001b[39mf, \u001b[39mstr\u001b[39m):\n\u001b[0;32m   1079\u001b[0m     \u001b[39m# if we are a string, try to dispatch\u001b[39;00m\n\u001b[0;32m   1080\u001b[0m     \u001b[39mreturn\u001b[39;00m \u001b[39mself\u001b[39m\u001b[39m.\u001b[39mapply_str()\n\u001b[1;32m-> 1082\u001b[0m \u001b[39mreturn\u001b[39;00m \u001b[39mself\u001b[39;49m\u001b[39m.\u001b[39;49mapply_standard()\n",
            "File \u001b[1;32mc:\\Users\\freek\\AppData\\Local\\Programs\\Python\\Python310\\lib\\site-packages\\pandas\\core\\apply.py:1137\u001b[0m, in \u001b[0;36mSeriesApply.apply_standard\u001b[1;34m(self)\u001b[0m\n\u001b[0;32m   1131\u001b[0m         values \u001b[39m=\u001b[39m obj\u001b[39m.\u001b[39mastype(\u001b[39mobject\u001b[39m)\u001b[39m.\u001b[39m_values\n\u001b[0;32m   1132\u001b[0m         \u001b[39m# error: Argument 2 to \"map_infer\" has incompatible type\u001b[39;00m\n\u001b[0;32m   1133\u001b[0m         \u001b[39m# \"Union[Callable[..., Any], str, List[Union[Callable[..., Any], str]],\u001b[39;00m\n\u001b[0;32m   1134\u001b[0m         \u001b[39m# Dict[Hashable, Union[Union[Callable[..., Any], str],\u001b[39;00m\n\u001b[0;32m   1135\u001b[0m         \u001b[39m# List[Union[Callable[..., Any], str]]]]]\"; expected\u001b[39;00m\n\u001b[0;32m   1136\u001b[0m         \u001b[39m# \"Callable[[Any], Any]\"\u001b[39;00m\n\u001b[1;32m-> 1137\u001b[0m         mapped \u001b[39m=\u001b[39m lib\u001b[39m.\u001b[39;49mmap_infer(\n\u001b[0;32m   1138\u001b[0m             values,\n\u001b[0;32m   1139\u001b[0m             f,  \u001b[39m# type: ignore[arg-type]\u001b[39;49;00m\n\u001b[0;32m   1140\u001b[0m             convert\u001b[39m=\u001b[39;49m\u001b[39mself\u001b[39;49m\u001b[39m.\u001b[39;49mconvert_dtype,\n\u001b[0;32m   1141\u001b[0m         )\n\u001b[0;32m   1143\u001b[0m \u001b[39mif\u001b[39;00m \u001b[39mlen\u001b[39m(mapped) \u001b[39mand\u001b[39;00m \u001b[39misinstance\u001b[39m(mapped[\u001b[39m0\u001b[39m], ABCSeries):\n\u001b[0;32m   1144\u001b[0m     \u001b[39m# GH#43986 Need to do list(mapped) in order to get treated as nested\u001b[39;00m\n\u001b[0;32m   1145\u001b[0m     \u001b[39m#  See also GH#25959 regarding EA support\u001b[39;00m\n\u001b[0;32m   1146\u001b[0m     \u001b[39mreturn\u001b[39;00m obj\u001b[39m.\u001b[39m_constructor_expanddim(\u001b[39mlist\u001b[39m(mapped), index\u001b[39m=\u001b[39mobj\u001b[39m.\u001b[39mindex)\n",
            "File \u001b[1;32mc:\\Users\\freek\\AppData\\Local\\Programs\\Python\\Python310\\lib\\site-packages\\pandas\\_libs\\lib.pyx:2870\u001b[0m, in \u001b[0;36mpandas._libs.lib.map_infer\u001b[1;34m()\u001b[0m\n",
            "\u001b[1;32mc:\\Users\\freek\\OneDrive\\Documenten\\.Universiteit\\M1\\S2\\AML\\energy-demand-prediction\\analysis.ipynb Cell 2\u001b[0m in \u001b[0;36m1\n\u001b[0;32m     <a href='vscode-notebook-cell:/c%3A/Users/freek/OneDrive/Documenten/.Universiteit/M1/S2/AML/energy-demand-prediction/analysis.ipynb#W2sZmlsZQ%3D%3D?line=11'>12</a>\u001b[0m merged_data \u001b[39m=\u001b[39m pd\u001b[39m.\u001b[39mmerge(merged_data, weather[cols_to_use], left_index\u001b[39m=\u001b[39m\u001b[39mTrue\u001b[39;00m, right_index\u001b[39m=\u001b[39m\u001b[39mTrue\u001b[39;00m, how\u001b[39m=\u001b[39m\u001b[39m'\u001b[39m\u001b[39mouter\u001b[39m\u001b[39m'\u001b[39m)\n\u001b[0;32m     <a href='vscode-notebook-cell:/c%3A/Users/freek/OneDrive/Documenten/.Universiteit/M1/S2/AML/energy-demand-prediction/analysis.ipynb#W2sZmlsZQ%3D%3D?line=13'>14</a>\u001b[0m \u001b[39mprint\u001b[39m(merged_data\u001b[39m.\u001b[39mhead())\n\u001b[1;32m---> <a href='vscode-notebook-cell:/c%3A/Users/freek/OneDrive/Documenten/.Universiteit/M1/S2/AML/energy-demand-prediction/analysis.ipynb#W2sZmlsZQ%3D%3D?line=14'>15</a>\u001b[0m merged_data[\u001b[39m'\u001b[39m\u001b[39mdatetime\u001b[39m\u001b[39m'\u001b[39m] \u001b[39m=\u001b[39m merged_data[\u001b[39m'\u001b[39m\u001b[39mdatetime\u001b[39m\u001b[39m'\u001b[39m]\u001b[39m.\u001b[39mapply(\u001b[39mlambda\u001b[39;00m x: x\u001b[39m.\u001b[39;49mvalue)\n\u001b[0;32m     <a href='vscode-notebook-cell:/c%3A/Users/freek/OneDrive/Documenten/.Universiteit/M1/S2/AML/energy-demand-prediction/analysis.ipynb#W2sZmlsZQ%3D%3D?line=17'>18</a>\u001b[0m \u001b[39m# Split the data into training and test sets\u001b[39;00m\n\u001b[0;32m     <a href='vscode-notebook-cell:/c%3A/Users/freek/OneDrive/Documenten/.Universiteit/M1/S2/AML/energy-demand-prediction/analysis.ipynb#W2sZmlsZQ%3D%3D?line=18'>19</a>\u001b[0m X \u001b[39m=\u001b[39m merged_data\u001b[39m.\u001b[39mdrop(\u001b[39m'\u001b[39m\u001b[39mdemand_kW\u001b[39m\u001b[39m'\u001b[39m, axis\u001b[39m=\u001b[39m\u001b[39m1\u001b[39m)\n",
            "\u001b[1;31mAttributeError\u001b[0m: 'str' object has no attribute 'value'"
          ]
        }
      ],
      "source": [
        "# Merge the data frames based on the appropriate keys\n",
        "# For example, to merge inbound and pallet_history data frames:\n",
        "\n",
        "inbound_pallet = pd.merge(inbound, pallet_history, on=['Unnamed: 0'])\n",
        "\n",
        "# Merge all the data frames into one\n",
        "merged_data = pd.merge(demand, inbound_pallet, left_on=['datetime_local'], right_on=['truck_signin_datetime'])\n",
        "merged_data = pd.merge(merged_data, outbound, on='truck_signin_datetime')\n",
        "# merged_data = pd.merge(merged_data, weather, left_on='datetime_local', right_on='datetime')\n",
        "\n",
        "cols_to_use = weather.columns.difference(merged_data.columns)\n",
        "merged_data = pd.merge(merged_data, weather[cols_to_use], left_index=True, right_index=True, how='outer')\n",
        "\n",
        "print(merged_data.head())\n",
        "merged_data['datetime'] = merged_data['datetime'].apply(lambda x: x.value)\n",
        "\n",
        "\n",
        "# Split the data into training and test sets\n",
        "X = merged_data.drop('demand_kW', axis=1)\n",
        "y = merged_data['demand_kW']\n",
        "X_train, X_test, y_train, y_test = train_test_split(X, y, test_size=0.2, random_state=42)\n",
        "\n",
        "# Set up the pipeline\n",
        "pipeline = Pipeline([\n",
        "    ('imputer', SimpleImputer(strategy='mean')),\n",
        "    ('scaler', StandardScaler()),\n",
        "    ('regressor', LinearRegression())\n",
        "])\n",
        "\n",
        "# Fit the pipeline to the training data\n",
        "pipeline.fit(X_train, y_train)\n",
        "\n",
        "# Predict on the test data\n",
        "y_pred = pipeline.predict(X_test)\n",
        "\n",
        "# Evaluate the performance of the model using mean squared error\n",
        "mse = mean_squared_error(y_test, y_pred)\n",
        "print('Mean Squared Error:', mse)\n"
      ]
    }
  ],
  "metadata": {
    "colab": {
      "provenance": []
    },
    "kernelspec": {
      "display_name": "Python 3",
      "name": "python3"
    },
    "language_info": {
      "codemirror_mode": {
        "name": "ipython",
        "version": 3
      },
      "file_extension": ".py",
      "mimetype": "text/x-python",
      "name": "python",
      "nbconvert_exporter": "python",
      "pygments_lexer": "ipython3",
      "version": "3.10.4"
    }
  },
  "nbformat": 4,
  "nbformat_minor": 0
}
