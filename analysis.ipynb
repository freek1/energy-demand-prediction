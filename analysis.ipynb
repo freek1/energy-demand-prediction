{
  "cells": [
    {
      "cell_type": "code",
      "execution_count": 2,
      "metadata": {
        "id": "e0ark8SXuFPw"
      },
      "outputs": [],
      "source": [
        "import numpy as np\n",
        "import matplotlib.pyplot as plt\n",
        "import pandas as pd\n",
        "\n",
        "weather = pd.read_csv('data/weather.csv')\n",
        "pallet_history = pd.read_csv('data/Pallet_history_Gold_Spike.csv')\n",
        "inbound_loads = pd.read_csv('data/inbound_loads.csv')\n",
        "outbound_loads = pd.read_csv('data/outbound_laods.csv')\n",
        "demand_Kwtrain_val = pd.read_csv('data/demand_kWtrain_val.csv')"
      ]
    },
    {
      "cell_type": "code",
      "execution_count": 11,
      "metadata": {
        "colab": {
          "base_uri": "https://localhost:8080/"
        },
        "id": "k26hUqr-u4PQ",
        "outputId": "d4055ee1-830d-413e-e53e-3ad81219a878"
      },
      "outputs": [
        {
          "name": "stdout",
          "output_type": "stream",
          "text": [
            "        Unnamed: 0  source_system_id  warehouse_facility_id  customer_code  \\\n",
            "0                0                11                     42           3610   \n",
            "1                1                11                     42           3610   \n",
            "2                2                11                     42           3610   \n",
            "3                3                11                     42           3610   \n",
            "4                4                11                     42           3610   \n",
            "...            ...               ...                    ...            ...   \n",
            "138725      138725                11                     42         126053   \n",
            "138726      138726                11                     42         126053   \n",
            "138727      138727                11                     42         126053   \n",
            "138728      138728                11                     42         126053   \n",
            "138729      138729                11                     42             12   \n",
            "\n",
            "       from_location_code to_location_code     transaction_date  tran_type  \\\n",
            "0              UNASSIGNED       0030130071  2021-11-23 07:43:18        NaN   \n",
            "1              0030130071       0030130071  2021-11-23 07:50:20        NaN   \n",
            "2              0030130071       0030130071  2021-11-23 16:56:53        NaN   \n",
            "3              UNASSIGNED       0030130071  2021-11-23 07:43:18        NaN   \n",
            "4              0030130071       0030130071  2021-11-23 07:50:20        NaN   \n",
            "...                   ...              ...                  ...        ...   \n",
            "138725         0030160512         CP947318  2021-12-10 21:14:21        NaN   \n",
            "138726         0030160512         CP939723  2021-12-15 20:58:38        NaN   \n",
            "138727         0030160512         CP417626  2021-12-16 21:10:23        NaN   \n",
            "138728         0030160512       0030170741  2021-12-22 16:33:21        NaN   \n",
            "138729                NaN              NaN                  NaN        NaN   \n",
            "\n",
            "        quantity   work_type  final_pallet_code warehouse_pallet_code  \\\n",
            "0            0.0   WRONGFULL                NaN              1363587-   \n",
            "1            0.0   WRONGFULL                NaN              1363587-   \n",
            "2            0.0   WRONGFULL                NaN              1363587-   \n",
            "3            0.0   WRONGFULL                NaN              1364144-   \n",
            "4            0.0   WRONGFULL                NaN              1364144-   \n",
            "...          ...         ...                ...                   ...   \n",
            "138725       1.0  CHRYPICK-S                NaN       1506559095-0001   \n",
            "138726       3.0  CHRYPICK-S                NaN       1506559095-0001   \n",
            "138727       3.0  CHRYPICK-S                NaN       1506559095-0001   \n",
            "138728       1.0       FULLS                NaN       1506559095-0001   \n",
            "138729       NaN         NaN                NaN                   NaN   \n",
            "\n",
            "            lot_code        received_date  move_category  \n",
            "0       1.363587e+06  2021-11-21 10:39:33  outbound move  \n",
            "1       1.363587e+06  2021-11-21 10:39:33  outbound move  \n",
            "2       1.363587e+06  2021-11-21 10:39:33  outbound move  \n",
            "3       1.364144e+06  2021-11-21 10:39:33  outbound move  \n",
            "4       1.364144e+06  2021-11-21 10:39:33  outbound move  \n",
            "...              ...                  ...            ...  \n",
            "138725  1.506559e+09  2021-11-19 19:56:05  outbound move  \n",
            "138726  1.506559e+09  2021-11-19 19:56:05  outbound move  \n",
            "138727  1.506559e+09  2021-11-19 19:56:05  outbound move  \n",
            "138728  1.506559e+09  2021-11-19 19:56:05  outbound move  \n",
            "138729           NaN                  NaN            NaN  \n",
            "\n",
            "[138730 rows x 15 columns]\n"
          ]
        }
      ],
      "source": [
        "print(pallet_history)"
      ]
    },
    {
      "cell_type": "code",
      "execution_count": null,
      "metadata": {
        "id": "G8wQBLpyu9Zw"
      },
      "outputs": [],
      "source": []
    }
  ],
  "metadata": {
    "colab": {
      "provenance": []
    },
    "kernelspec": {
      "display_name": "Python 3",
      "name": "python3"
    },
    "language_info": {
      "name": "python",
      "version": "3.10.4"
    }
  },
  "nbformat": 4,
  "nbformat_minor": 0
}
