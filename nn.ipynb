{
 "cells": [
  {
   "cell_type": "code",
   "execution_count": 57,
   "metadata": {},
   "outputs": [
    {
     "name": "stdout",
     "output_type": "stream",
     "text": [
      "Train: (190966, 18)\n",
      "Val: (82192, 18)\n"
     ]
    }
   ],
   "source": [
    "import numpy as np\n",
    "import pandas as pd\n",
    "import matplotlib.pyplot as plt\n",
    "\n",
    "train_data = pd.read_csv('preprocessed_data/preprocessed_train_data.csv')\n",
    "val_data = pd.read_csv('preprocessed_data/preprocessed_val_data.csv')\n",
    "\n",
    "print('Train:', train_data.shape)\n",
    "print('Val:', val_data.shape)"
   ]
  },
  {
   "cell_type": "code",
   "execution_count": 84,
   "metadata": {},
   "outputs": [
    {
     "name": "stdout",
     "output_type": "stream",
     "text": [
      "torch.Size([10000, 17])\n",
      "torch.Size([10000])\n"
     ]
    }
   ],
   "source": [
    "import torch\n",
    "import torch.nn as nn\n",
    "import torch.nn.functional as F\n",
    "\n",
    "X_train = train_data.drop('demand_kW', axis=1)\n",
    "y_train = train_data['demand_kW']\n",
    "X_val = val_data.drop('demand_kW', axis=1)\n",
    "y_val = val_data['demand_kW']\n",
    "\n",
    "# Only train on the first 10k samples, otherwise out of memory\n",
    "X_train = X_train[0:10000]\n",
    "y_train = y_train[0:10000]\n",
    "\n",
    "n_epochs = 500\n",
    "\n",
    "n_input = X_train.shape[1]\n",
    "n_hidden = n_input*10\n",
    "n_out = 1\n",
    "batch_size = 100\n",
    "learning_rate = 1e-2\n",
    "n_batch = 17\n",
    "\n",
    "# Convert to tensors\n",
    "X_train = torch.tensor(np.array(X_train))\n",
    "y_train = torch.tensor(np.array(y_train))\n",
    "X_val = torch.tensor(np.array(X_val))\n",
    "y_val = torch.tensor(np.array(y_val))\n",
    "\n",
    "print(X_train.size())\n",
    "print(y_train.size())\n"
   ]
  },
  {
   "attachments": {},
   "cell_type": "markdown",
   "metadata": {},
   "source": [
    "Define model"
   ]
  },
  {
   "cell_type": "code",
   "execution_count": 79,
   "metadata": {},
   "outputs": [
    {
     "name": "stdout",
     "output_type": "stream",
     "text": [
      "Sequential(\n",
      "  (0): Linear(in_features=17, out_features=85, bias=True)\n",
      "  (1): ReLU()\n",
      "  (2): Linear(in_features=85, out_features=17, bias=True)\n",
      "  (3): ReLU()\n",
      "  (4): BatchNorm1d(17, eps=1e-05, momentum=0.1, affine=True, track_running_stats=True)\n",
      "  (5): Linear(in_features=17, out_features=34, bias=True)\n",
      "  (6): ReLU()\n",
      "  (7): BatchNorm1d(34, eps=1e-05, momentum=0.1, affine=True, track_running_stats=True)\n",
      "  (8): Linear(in_features=34, out_features=17, bias=True)\n",
      "  (9): ReLU()\n",
      "  (10): BatchNorm1d(17, eps=1e-05, momentum=0.1, affine=True, track_running_stats=True)\n",
      "  (11): Linear(in_features=17, out_features=1, bias=True)\n",
      "  (12): Sigmoid()\n",
      ")\n"
     ]
    }
   ],
   "source": [
    "model = nn.Sequential(nn.Linear(n_input, n_input*5),\n",
    "                      nn.ReLU(),\n",
    "                      nn.Linear(n_input*5, n_input),\n",
    "                      nn.ReLU(),\n",
    "                      nn.BatchNorm1d(n_input),\n",
    "                      nn.Linear(n_input, 17*2),\n",
    "                      nn.ReLU(),\n",
    "                      nn.BatchNorm1d(17*2),\n",
    "                      nn.Linear(17*2, 17),\n",
    "                      nn.ReLU(),\n",
    "                      nn.BatchNorm1d(17),\n",
    "                      nn.Linear(17, n_out),\n",
    "                      nn.Sigmoid())\n",
    "print(model)\n",
    "\n",
    "# Simple FF NN model with ReLU and BatchNorm layers.\n",
    "\n",
    "loss_function = nn.MSELoss()\n",
    "optimizer = torch.optim.RMSprop(model.parameters(), lr=learning_rate)"
   ]
  },
  {
   "attachments": {},
   "cell_type": "markdown",
   "metadata": {},
   "source": [
    "Forward and backward pass\n"
   ]
  },
  {
   "cell_type": "code",
   "execution_count": 80,
   "metadata": {},
   "outputs": [
    {
     "name": "stderr",
     "output_type": "stream",
     "text": [
      "c:\\Users\\freek\\AppData\\Local\\Programs\\Python\\Python310\\lib\\site-packages\\torch\\nn\\modules\\loss.py:529: UserWarning: Using a target size (torch.Size([10000])) that is different to the input size (torch.Size([10000, 1])). This will likely lead to incorrect results due to broadcasting. Please ensure they have the same size.\n",
      "  return F.mse_loss(input, target, reduction=self.reduction)\n"
     ]
    }
   ],
   "source": [
    "losses = []\n",
    "for epoch in range(n_epochs):\n",
    "    pred_y = model(X_train.float())\n",
    "    loss = loss_function(pred_y, y_train.float())\n",
    "    losses.append(loss.item())\n",
    "\n",
    "    model.zero_grad()\n",
    "    loss.backward()\n",
    "\n",
    "    optimizer.step()"
   ]
  },
  {
   "cell_type": "code",
   "execution_count": 81,
   "metadata": {},
   "outputs": [
    {
     "data": {
      "image/png": "[encoded data removed]",
      "text/plain": [
       "<Figure size 640x480 with 1 Axes>"
      ]
     },
     "metadata": {},
     "output_type": "display_data"
    }
   ],
   "source": [
    "plt.plot(losses)\n",
    "plt.ylabel('loss')\n",
    "plt.xlabel('epoch')\n",
    "plt.title(\"Learning rate %f\"%(learning_rate))\n",
    "plt.show()"
   ]
  },
  {
   "cell_type": "code",
   "execution_count": 82,
   "metadata": {},
   "outputs": [
    {
     "name": "stdout",
     "output_type": "stream",
     "text": [
      "3414768.75\n"
     ]
    }
   ],
   "source": [
    "print('Training loss: ', losses[-1])"
   ]
  },
  {
   "cell_type": "code",
   "execution_count": 85,
   "metadata": {},
   "outputs": [
    {
     "name": "stderr",
     "output_type": "stream",
     "text": [
      "c:\\Users\\freek\\AppData\\Local\\Programs\\Python\\Python310\\lib\\site-packages\\torch\\nn\\modules\\loss.py:529: UserWarning: Using a target size (torch.Size([82192])) that is different to the input size (torch.Size([82192, 1])). This will likely lead to incorrect results due to broadcasting. Please ensure they have the same size.\n",
      "  return F.mse_loss(input, target, reduction=self.reduction)\n"
     ]
    },
    {
     "name": "stdout",
     "output_type": "stream",
     "text": [
      "tensor(6613313., grad_fn=<MseLossBackward0>)\n"
     ]
    }
   ],
   "source": [
    "# Takes a long time:\n",
    "pred_y = model(X_val.float())\n",
    "loss = loss_function(pred_y, y_val.float())"
   ]
  },
  {
   "cell_type": "code",
   "execution_count": 88,
   "metadata": {},
   "outputs": [
    {
     "name": "stdout",
     "output_type": "stream",
     "text": [
      "Validation error:  6613313.0\n"
     ]
    }
   ],
   "source": [
    "print('Validation error: ', loss.item())"
   ]
  }
 ],
 "metadata": {
  "kernelspec": {
   "display_name": "Python 3",
   "language": "python",
   "name": "python3"
  },
  "language_info": {
   "codemirror_mode": {
    "name": "ipython",
    "version": 3
   },
   "file_extension": ".py",
   "mimetype": "text/x-python",
   "name": "python",
   "nbconvert_exporter": "python",
   "pygments_lexer": "ipython3",
   "version": "3.10.4"
  },
  "orig_nbformat": 4
 },
 "nbformat": 4,
 "nbformat_minor": 2
}
